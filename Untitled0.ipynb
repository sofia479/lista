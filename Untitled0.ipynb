{
  "nbformat": 4,
  "nbformat_minor": 0,
  "metadata": {
    "colab": {
      "provenance": [],
      "authorship_tag": "ABX9TyMrBTR+7MHdAKU59QnGroA+",
      "include_colab_link": true
    },
    "kernelspec": {
      "name": "python3",
      "display_name": "Python 3"
    },
    "language_info": {
      "name": "python"
    }
  },
  "cells": [
    {
      "cell_type": "markdown",
      "metadata": {
        "id": "view-in-github",
        "colab_type": "text"
      },
      "source": [
        "<a href=\"https://colab.research.google.com/github/sofia479/lista/blob/main/Untitled0.ipynb\" target=\"_parent\"><img src=\"https://colab.research.google.com/assets/colab-badge.svg\" alt=\"Open In Colab\"/></a>"
      ]
    },
    {
      "cell_type": "code",
      "execution_count": null,
      "metadata": {
        "id": "l1_Jt1OoGsVG"
      },
      "outputs": [],
      "source": []
    },
    {
      "cell_type": "markdown",
      "source": [
        "# listas\n",
        "\n",
        "- una lista hace referencia a una coleccion de datos que pueden ser numeros cadenas,o algun otro tipo\n",
        "-son colecciones ordenadas de datos lo que implica que importa el orden en el cual se encuentran elementos\n",
        "-el primer elemento ocupa la posicion 0, el segundo la 1 y asi suavemente.\n",
        "-son mutables: en vez creada la lista,esta puede modificarse, se la pueden agregar o quitar elementos.\n",
        "-en python estan representadas por el tipo***list*** y para definirlas se utiliza la siguientes sintexis:\n",
        "```nombre_lista=[valor1,valor2]```\n",
        "- los elementos pueden ser de cualquier tipo,incluso puede haber tipos diferentes en una misma lista,\n",
        "-tambien es posible crear usando el costrutor'''list'''"
      ],
      "metadata": {
        "id": "LXHSylluGtac"
      }
    },
    {
      "cell_type": "code",
      "source": [
        "# ejemplo\n",
        "\n",
        "#---------------------------\n",
        "#usando los[] y dando valores para inicializar las listas\n",
        "#---------------------------\n",
        "\n",
        "dias_laborables=[\"lunes\",\"martes\",\"miercoles,jueves\",\"viernes\"]\n",
        "print (dias_laborables)\n",
        "\n",
        "colores_primarios=[\"rojo\", \"amarillo\",\"azul\"]\n",
        "print (colores_primarios)\n",
        "\n",
        "precios = [205.30,107,25, 450, 310,170,23,340]\n",
        "print(precios)\n",
        "print(type(precios))\n",
        "mezcolansa=(12,\"obtubre\",1492,True)\n",
        "lista_vacia=[]\n",
        "\n",
        "#----------------------\n",
        "#usando ek costrutor list[]\n",
        "#-----------------------\n",
        "lista_vacia=list()\n",
        "lista_3= list(range(0,30,2))\n",
        "print(lista_3)\n",
        "lista_4= list(range(29,0,-2))\n",
        "print(lista_4)\n",
        "lista_5= list(\"nestor jesus\")\n",
        "print(lista_5)\n",
        "frase=\"nestor jesus paez sarmiento\"\n",
        "lista_6= frase.split()\n",
        "print(lista_6)"
      ],
      "metadata": {
        "colab": {
          "base_uri": "https://localhost:8080/"
        },
        "id": "A4U-x_PRMkMf",
        "outputId": "d1adb4b4-3ffe-4d16-a74f-47e71ac76bb6"
      },
      "execution_count": 10,
      "outputs": [
        {
          "output_type": "stream",
          "name": "stdout",
          "text": [
            "['lunes', 'martes', 'miercoles,jueves', 'viernes']\n",
            "['rojo', 'amarillo', 'azul']\n",
            "[205.3, 107, 25, 450, 310, 170, 23, 340]\n",
            "<class 'list'>\n",
            "[0, 2, 4, 6, 8, 10, 12, 14, 16, 18, 20, 22, 24, 26, 28]\n",
            "[29, 27, 25, 23, 21, 19, 17, 15, 13, 11, 9, 7, 5, 3, 1]\n",
            "['n', 'e', 's', 't', 'o', 'r', ' ', 'j', 'e', 's', 'u', 's']\n",
            "['nestor', 'jesus', 'paez', 'sarmiento']\n"
          ]
        }
      ]
    },
    {
      "cell_type": "markdown",
      "source": [],
      "metadata": {
        "id": "REpM8VaWRO_f"
      }
    },
    {
      "cell_type": "markdown",
      "source": [
        "## operadores\n",
        "### operador"
      ],
      "metadata": {
        "id": "iWvn2iVURnaT"
      }
    },
    {
      "cell_type": "code",
      "source": [
        "dias_laborables=[\"lunes\",\"martes\",\"miercoles,jueves\",\"viernes\"]\n",
        "\n",
        "colores_primarios=[\"rojo\", \"amarillo\",\"azul\"]\n",
        "\n",
        "precios = [205.30,107,25, 450, 310,170,23,340]\n",
        "\n",
        "# acceso a los elementos de una lista\n",
        "\n",
        "print(dias_laborables[0])\n",
        "print(dias_laborables[-1])\n",
        "print(dias_laborables[-5])\n",
        "\n",
        "# operador +\n",
        "\n",
        "fin_semana=(\"sabaddo\"\"domingo\")\n",
        "semana = dias_laborables +fin_semana\n",
        "print(semana)"
      ],
      "metadata": {
        "colab": {
          "base_uri": "https://localhost:8080/",
          "height": 245
        },
        "id": "REOb1wioSH6j",
        "outputId": "9703bd32-707b-4bd9-ede7-92c89189c607"
      },
      "execution_count": 20,
      "outputs": [
        {
          "output_type": "stream",
          "name": "stdout",
          "text": [
            "lunes\n",
            "viernes\n"
          ]
        },
        {
          "output_type": "error",
          "ename": "IndexError",
          "evalue": "list index out of range",
          "traceback": [
            "\u001b[0;31m---------------------------------------------------------------------------\u001b[0m",
            "\u001b[0;31mIndexError\u001b[0m                                Traceback (most recent call last)",
            "\u001b[0;32m<ipython-input-20-0a3cc3ff2223>\u001b[0m in \u001b[0;36m<cell line: 0>\u001b[0;34m()\u001b[0m\n\u001b[1;32m      9\u001b[0m \u001b[0mprint\u001b[0m\u001b[0;34m(\u001b[0m\u001b[0mdias_laborables\u001b[0m\u001b[0;34m[\u001b[0m\u001b[0;36m0\u001b[0m\u001b[0;34m]\u001b[0m\u001b[0;34m)\u001b[0m\u001b[0;34m\u001b[0m\u001b[0;34m\u001b[0m\u001b[0m\n\u001b[1;32m     10\u001b[0m \u001b[0mprint\u001b[0m\u001b[0;34m(\u001b[0m\u001b[0mdias_laborables\u001b[0m\u001b[0;34m[\u001b[0m\u001b[0;34m-\u001b[0m\u001b[0;36m1\u001b[0m\u001b[0;34m]\u001b[0m\u001b[0;34m)\u001b[0m\u001b[0;34m\u001b[0m\u001b[0;34m\u001b[0m\u001b[0m\n\u001b[0;32m---> 11\u001b[0;31m \u001b[0mprint\u001b[0m\u001b[0;34m(\u001b[0m\u001b[0mdias_laborables\u001b[0m\u001b[0;34m[\u001b[0m\u001b[0;34m-\u001b[0m\u001b[0;36m5\u001b[0m\u001b[0;34m]\u001b[0m\u001b[0;34m)\u001b[0m\u001b[0;34m\u001b[0m\u001b[0;34m\u001b[0m\u001b[0m\n\u001b[0m\u001b[1;32m     12\u001b[0m \u001b[0;34m\u001b[0m\u001b[0m\n\u001b[1;32m     13\u001b[0m \u001b[0;31m# operador +\u001b[0m\u001b[0;34m\u001b[0m\u001b[0;34m\u001b[0m\u001b[0m\n",
            "\u001b[0;31mIndexError\u001b[0m: list index out of range"
          ]
        }
      ]
    },
    {
      "cell_type": "markdown",
      "source": [],
      "metadata": {
        "id": "RCd3OG5_TCoq"
      }
    },
    {
      "cell_type": "markdown",
      "source": [],
      "metadata": {
        "id": "UBL1lKtalPs4"
      }
    },
    {
      "cell_type": "markdown",
      "source": [
        "```\n",
        "\n"
      ],
      "metadata": {
        "id": "iELDQ_a6RScZ"
      }
    },
    {
      "cell_type": "markdown",
      "source": [
        "## funciones asociadas a las listas\n"
      ],
      "metadata": {
        "id": "QcasGbmEUOro"
      }
    },
    {
      "cell_type": "code",
      "source": [
        "from pickle import TRUE\n",
        "dias_laborables=[\"lunes\",\"martes\",\"miercoles,jueves\",\"viernes\"]\n",
        "\n",
        "colores_primarios=[\"rojo\", \"amarillo\",\"azul\"]\n",
        "\n",
        "precios = [205.30,107,25, 450, 310,170,23,340]\n",
        "\n",
        "pares= list(range(0,30,2))\n",
        "\n",
        "impares=list(range(29,0,2-))\n",
        "\n",
        "colores_repetidos= colores_primarios* 3\n",
        "\n",
        "# apepend():agregaron un elemento al  final de la lista\n",
        "dias_laborables.append(\"sabado\")\n",
        "print(dias _laborables )\n",
        "\n",
        "# len(): total de elementos de la lista\n",
        "print (total de precios - len(precios))\n",
        "\n",
        "# count(): cuenta el numero de veces que aparece un elemento en la lista\n",
        "print[f\"el lunes aparece{dias_laborables.count(\"lunes\")}vez(veces)\"]\n",
        "\n",
        "# insert(): agrega en la porsicion indicada por el indice el nuevo valor, desplazando los demas elementos hacia la derecha si el indice es mayor al tamaño de la lista,lo agrega al final\n",
        "colores primarios.insert(2,\"verde\")\n",
        "print(colores_primarios)\n",
        "\n",
        "#remove(): quita el elemento de la lista si el elemento no esta lanza una excepcion\n",
        "dias_laborables,remove(\"sabado\")\n",
        "print(dias_laborables)\n",
        "\n",
        "# sort(): ordena la lista de menor a mayor\n",
        "precios.sort()\n",
        "print(precios)\n",
        "precios.sort(reverse=TRUE)\n",
        "print(precios)\n",
        "# reverse():\n",
        "\n",
        "# pop():\n",
        "\n",
        "# clear()\n",
        "\n",
        "# del"
      ],
      "metadata": {
        "id": "MpRpHol2UVQj"
      },
      "execution_count": null,
      "outputs": []
    },
    {
      "cell_type": "markdown",
      "source": [
        "## participacion o division de listas (slicing o rebanadas)\n",
        ". se pueden generar sublistas a partir de una lista por medio de la participacion (division)o slicing.\n",
        ". para obtener una sunlistabse usa la sintaxis:''''sublista=lista\n",
        "(inicio:fin:n)"
      ],
      "metadata": {
        "id": "_r2vX_lHgAyf"
      }
    },
    {
      "cell_type": "code",
      "source": [
        "# se crea una lista de numeros enteros\n",
        " lista 1 = [1,2,3,4,5,6]\n",
        "\n",
        "# sublista con los elementos de las posiciones 0 a la 2 inclusive\n",
        "sublista 1= lista_1 [0:3]\n",
        "print(sublista)\n",
        "\n",
        "# sublista con los elementos 0 a la 3 inclusive\n",
        "sublista_2 = lista_1 [2:4]\n",
        "print(sublista_2)\n",
        "\n",
        "#sublista con los elementos 3 a la 5 inclusive\n",
        "sublista 3=lista 1[3:]\n",
        "print(sublista 3)\n",
        "\n",
        "\n",
        "# sublista con los elementos desde el inicio hasta el final,con saltos de a 2\n",
        "sublista_4= lista_1[::2]\n",
        "print(sublista_4)"
      ],
      "metadata": {
        "id": "KIyTflS1g2wA"
      },
      "execution_count": null,
      "outputs": []
    },
    {
      "cell_type": "markdown",
      "source": [
        "## listas por comprension\n",
        "- son listas creadas por la aplicacion de una operacion a cda uno de los miembros de una secuencia\n",
        "\n",
        "- sintexis: '''lista= (operacion for elemento in secuencia)'''\n",
        "- la expresion se escribe entre [] y esta formado por la operacion que quiere aplicarse a los elementos de la secuencia,seguida de la istrucion for,que permite sobre la secuencia"
      ],
      "metadata": {
        "id": "lLqKZzx0lRhD"
      }
    },
    {
      "cell_type": "code",
      "source": [
        "# A partir de una cadena de caracteres\n",
        "\n",
        "frase=\"sofita\"\n",
        "lista_mayusculas = [letra.upper()for letra in frase]\n",
        "print(lista_mayusculas)\n",
        "\n",
        "# A partir denuna tupla\n",
        "tupla = (2,5,8,10)\n",
        "lista_cuadrados = [numero**2 for numero in tupla]\n",
        "print(lista_cuadrados)\n",
        "\n",
        "# A partir de una lita\n",
        "lista_pares= (2,4,6,8,10)\n",
        "lista_cubos_pares=[par**3 for par in lista_pares]\n",
        "print(lista_cubos_pares)"
      ],
      "metadata": {
        "colab": {
          "base_uri": "https://localhost:8080/"
        },
        "id": "x9QKDRqmmWlw",
        "outputId": "6f5109e4-a0a5-4fe6-ed6a-09aa20073b7b"
      },
      "execution_count": 16,
      "outputs": [
        {
          "output_type": "stream",
          "name": "stdout",
          "text": [
            "['S', 'O', 'F', 'I', 'T', 'A']\n",
            "[4, 25, 64, 100]\n",
            "[8, 64, 216, 512, 1000]\n"
          ]
        }
      ]
    }
  ]
}